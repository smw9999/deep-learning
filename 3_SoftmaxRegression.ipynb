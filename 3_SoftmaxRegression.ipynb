{
  "nbformat": 4,
  "nbformat_minor": 0,
  "metadata": {
    "colab": {
      "name": "3_SoftmaxRegression.ipynb",
      "provenance": [],
      "collapsed_sections": [],
      "include_colab_link": true
    },
    "kernelspec": {
      "name": "python3",
      "display_name": "Python 3"
    },
    "language_info": {
      "name": "python"
    }
  },
  "cells": [
    {
      "cell_type": "markdown",
      "metadata": {
        "id": "view-in-github",
        "colab_type": "text"
      },
      "source": [
        "<a href=\"https://colab.research.google.com/github/smw9999/deep-learning/blob/main/3_SoftmaxRegression.ipynb\" target=\"_parent\"><img src=\"https://colab.research.google.com/assets/colab-badge.svg\" alt=\"Open In Colab\"/></a>"
      ]
    },
    {
      "cell_type": "markdown",
      "metadata": {
        "id": "MhaiH8f2hSHN"
      },
      "source": [
        "# 소프트맥스 회귀 ( Softmax Regression )\n",
        "\n",
        ">**목차**\n",
        "1. 개념정리\n",
        "3. 원-핫 벡터\n",
        "3. 실습\n"
      ]
    },
    {
      "cell_type": "code",
      "metadata": {
        "id": "2VW4g5_Ogrng"
      },
      "source": [
        "import numpy as np\n",
        "import matplotlib.pyplot as plt\n",
        "from tensorflow.keras.models import Sequential\n",
        "from tensorflow.keras.layers import Dense\n",
        "from tensorflow.keras import optimizers"
      ],
      "execution_count": null,
      "outputs": []
    },
    {
      "cell_type": "markdown",
      "metadata": {
        "id": "Xspd1KqyT9ab"
      },
      "source": [
        "## 1. 개념정리\n",
        "---\n",
        "\n",
        "\n",
        "<br>\n",
        "\n",
        "###<center> < 가설 > </center>\n",
        "###  <center>$f(x)=softmax(xW+b)$</center>\n",
        "\n",
        "<br>\n",
        "\n",
        "### <center> < 목적 > </center>\n",
        "### <center>$(w^{*}, b^{*})=arg \\; min \\;J(y, \\hat{y})$</center>\n",
        "### <center> $ =arg \\; min \\;J(y, f(x))$</center>\n",
        "### <center> $ =arg \\; min \\;J(y, softmax(xW+b))$</center>"
      ]
    },
    {
      "cell_type": "markdown",
      "metadata": {
        "id": "wJvI8FdoNwM6"
      },
      "source": [
        "### **소프트맥스 함수 ( Softmax funtion )**\n",
        "\n",
        "<br>\n",
        "\n",
        "### <center> $softmax(x)_k = \\frac{1}{\\sum_{j=1}^{d}e^{(x_j)}}e(x_k)$\n",
        "\n",
        "<br>\n",
        "\n",
        "### <center> $softmax(x) = [\\frac{e(x_1)}{\\sum_{j=1}^{d}e^{(x_j)}}, \\frac{e(x_2)}{\\sum_{j=1}^{d}e^{(x_j)}} ... \\frac{e(x_d)}{\\sum_{j=1}^{d}e^{(x_j)}}]$"
      ]
    },
    {
      "cell_type": "markdown",
      "metadata": {
        "id": "yVrRMqlSxD2L"
      },
      "source": [
        "* 구현"
      ]
    },
    {
      "cell_type": "code",
      "metadata": {
        "id": "l6vzKZkrNX5O",
        "colab": {
          "base_uri": "https://localhost:8080/"
        },
        "outputId": "2a1ac260-c0aa-4006-edcf-373d7a580eaf"
      },
      "source": [
        "def softmax(x):\n",
        "  y1 = np.array([ np.exp(xi) for xi in x ])\n",
        "  y2 = y1/np.sum(y1)\n",
        "  return y2\n",
        "\n",
        "softmax([1,2,3])"
      ],
      "execution_count": null,
      "outputs": [
        {
          "output_type": "execute_result",
          "data": {
            "text/plain": [
              "array([0.09003057, 0.24472847, 0.66524096])"
            ]
          },
          "metadata": {},
          "execution_count": 71
        }
      ]
    },
    {
      "cell_type": "markdown",
      "metadata": {
        "id": "TKJ93MeglS7s"
      },
      "source": [
        "* 예제\n",
        "  * $ x_1 = (2,1,1)$\n",
        "  * $ x_2 = (2,5,3)$\n",
        "  * $ x_3 = (-1,2,5)$"
      ]
    },
    {
      "cell_type": "code",
      "metadata": {
        "id": "xp0BcsXTlX4b",
        "colab": {
          "base_uri": "https://localhost:8080/"
        },
        "outputId": "ff9f9ad5-9ade-4451-b70d-27afcda3516c"
      },
      "source": [
        "x1 = np.array([2,1,1])\n",
        "print(softmax(x1))\n",
        "\n",
        "x2 = np.array([2,5,3])\n",
        "print(softmax(x2))\n",
        "\n",
        "x3 = np.array([-1,2,5])\n",
        "print(softmax(x3))"
      ],
      "execution_count": null,
      "outputs": [
        {
          "output_type": "stream",
          "name": "stdout",
          "text": [
            "[0.57611688 0.21194156 0.21194156]\n",
            "[0.04201007 0.84379473 0.1141952 ]\n",
            "[0.00235563 0.04731416 0.95033021]\n"
          ]
        }
      ]
    },
    {
      "cell_type": "markdown",
      "metadata": {
        "id": "SzKxctP_YrtO"
      },
      "source": [
        "### **가설 구현**\n",
        "###<center>$f(x)=softmax(xW+b)$</center>"
      ]
    },
    {
      "cell_type": "code",
      "metadata": {
        "id": "itvJt9yRkZib"
      },
      "source": [
        "def hypothesis(x,W,b=0):\n",
        "  return softmax(np.dot(x,W)+b)"
      ],
      "execution_count": null,
      "outputs": []
    },
    {
      "cell_type": "markdown",
      "metadata": {
        "id": "heC50xSfZ28d"
      },
      "source": [
        "### **예제**\n",
        "\n",
        "|X|\n",
        "|------|\n",
        "|-3|\n",
        "|-2|\n",
        "|-1|\n",
        "|0|\n",
        "|1|\n",
        "|2|\n",
        "|3|\n"
      ]
    },
    {
      "cell_type": "markdown",
      "metadata": {
        "id": "31x3U7SB2ziD"
      },
      "source": [
        "* 데이터 정의\n",
        "\n"
      ]
    },
    {
      "cell_type": "code",
      "metadata": {
        "id": "IAi3_LvS1BYj",
        "colab": {
          "base_uri": "https://localhost:8080/"
        },
        "outputId": "f05b5a51-105e-4f8d-e994-c81bc79d56e8"
      },
      "source": [
        "X = np.array([[-3],\n",
        "     [-2],\n",
        "     [-1],\n",
        "     [0],\n",
        "     [1],\n",
        "     [2],\n",
        "     [3]\n",
        "     ])\n",
        "\n",
        "X.shape"
      ],
      "execution_count": null,
      "outputs": [
        {
          "output_type": "execute_result",
          "data": {
            "text/plain": [
              "(7, 1)"
            ]
          },
          "metadata": {},
          "execution_count": 74
        }
      ]
    },
    {
      "cell_type": "markdown",
      "metadata": {
        "id": "RVfGUYHqZqNY"
      },
      "source": [
        "* 예측"
      ]
    },
    {
      "cell_type": "code",
      "metadata": {
        "id": "jFmDoJ3JZqH2",
        "colab": {
          "base_uri": "https://localhost:8080/"
        },
        "outputId": "286aca0b-44f8-49bb-ecca-cbdcf37487d9"
      },
      "source": [
        "W = np.array([[1, 2, 3]])\n",
        "print(W, W.shape)\n",
        "\n",
        "for x in X:\n",
        "  y_pred = hypothesis(x,W)\n",
        "  print(x, y_pred)"
      ],
      "execution_count": null,
      "outputs": [
        {
          "output_type": "stream",
          "name": "stdout",
          "text": [
            "[[1 2 3]] (1, 3)\n",
            "[-3] [0.95033021 0.04731416 0.00235563]\n",
            "[-2] [0.86681333 0.11731043 0.01587624]\n",
            "[-1] [0.66524096 0.24472847 0.09003057]\n",
            "[0] [0.33333333 0.33333333 0.33333333]\n",
            "[1] [0.09003057 0.24472847 0.66524096]\n",
            "[2] [0.01587624 0.11731043 0.86681333]\n",
            "[3] [0.00235563 0.04731416 0.95033021]\n"
          ]
        }
      ]
    },
    {
      "cell_type": "markdown",
      "metadata": {
        "id": "OhHRBWI4p2ZV"
      },
      "source": [
        "## 2. 원-핫 벡터 (Cross Entropy)\n",
        "---\n",
        "\n",
        "|X|Y|\n",
        "|---|--|\n",
        "|-3|패배|\n",
        "|-2|패배|\n",
        "|-1|패배|\n",
        "|0|무승부|\n",
        "|1|무승부|\n",
        "|2|승리|\n",
        "|3|승리|\n"
      ]
    },
    {
      "cell_type": "markdown",
      "metadata": {
        "id": "5hdReH-XssPl"
      },
      "source": [
        "* 데이터 정의\n",
        "\n"
      ]
    },
    {
      "cell_type": "code",
      "metadata": {
        "id": "Dhozk5KpssPm",
        "colab": {
          "base_uri": "https://localhost:8080/"
        },
        "outputId": "5d8bb872-2289-4736-982c-79eda5b3517e"
      },
      "source": [
        "Y = np.array([0,0,0,1,1,2,2,2])\n",
        "\n",
        "from tensorflow.keras.utils import to_categorical\n",
        "Y_onehot = to_categorical(Y, num_classes=3)\n",
        "print(Y_onehot)"
      ],
      "execution_count": null,
      "outputs": [
        {
          "output_type": "stream",
          "name": "stdout",
          "text": [
            "[[1. 0. 0.]\n",
            " [1. 0. 0.]\n",
            " [1. 0. 0.]\n",
            " [0. 1. 0.]\n",
            " [0. 1. 0.]\n",
            " [0. 0. 1.]\n",
            " [0. 0. 1.]\n",
            " [0. 0. 1.]]\n"
          ]
        }
      ]
    },
    {
      "cell_type": "markdown",
      "metadata": {
        "id": "dcvlzGY7w7_N"
      },
      "source": [
        "\n",
        "## 3. 실습\n",
        "---"
      ]
    },
    {
      "cell_type": "markdown",
      "metadata": {
        "id": "lERyWr69x0hT"
      },
      "source": [
        "### **데이터**\n",
        "|공부시간|집중도|수면시간|종합성적|합격여부|\n",
        "|------|---|---|---|---|\n",
        "|0|1|9|0|불합격|\n",
        "|1|1|8.5|1.1|불합격|\n",
        "|2|2|8|2.3|불합격|\n",
        "|3|4|8|3.0|유예|\n",
        "|4|3|7|4.4|유예|\n",
        "|5|5|7.5|5.5|유예|\n",
        "|6|6|7|6.1|유예|\n",
        "|7|6|6|7.3|합격|\n",
        "|8|7|7|8.4|합격|\n",
        "|9|6|6.5|9.8|합격|"
      ]
    },
    {
      "cell_type": "markdown",
      "metadata": {
        "id": "W05K5U6jr4hF"
      },
      "source": [
        "* 데이터 정의"
      ]
    },
    {
      "cell_type": "code",
      "metadata": {
        "id": "O8Azp_7AhYc3",
        "colab": {
          "base_uri": "https://localhost:8080/"
        },
        "outputId": "440fac39-e237-4599-eaeb-3068a6bf5aab"
      },
      "source": [
        "X = np.array([[0,1,9,0],\n",
        "      [1,1,8.5,1.1],\n",
        "      [2,2,8,2.3],\n",
        "      [3,4,8,3.0],\n",
        "      [4,3,7,4.4],\n",
        "      [5,5,7.5,5.5],\n",
        "      [6,6,7,6.1],\n",
        "      [7,6,6,7.3],\n",
        "      [8,7,7,8.4],\n",
        "      [9,6,6.5,9.8],\n",
        "     ])\n",
        "\n",
        "Y = np.array([0,0,0,1,1,1,1,2,2,2])\n",
        "Y_onehot = to_categorical(Y, num_classes=3)\n",
        "\n",
        "X.shape, Y_onehot.shape"
      ],
      "execution_count": null,
      "outputs": [
        {
          "output_type": "execute_result",
          "data": {
            "text/plain": [
              "((10, 4), (10, 3))"
            ]
          },
          "metadata": {},
          "execution_count": 77
        }
      ]
    },
    {
      "cell_type": "markdown",
      "metadata": {
        "id": "vKgnvyq0NIio"
      },
      "source": [
        "* 시각화 "
      ]
    },
    {
      "cell_type": "code",
      "metadata": {
        "id": "XE61QbZViBcv",
        "colab": {
          "base_uri": "https://localhost:8080/",
          "height": 265
        },
        "outputId": "e72108fc-35ea-413f-9233-a443de33e1a8"
      },
      "source": [
        "plt.plot([y for y in Y], marker='o', linestyle='')\n",
        "plt.show()"
      ],
      "execution_count": null,
      "outputs": [
        {
          "output_type": "display_data",
          "data": {
            "image/png": "[encoded data removed]",
            "text/plain": [
              "<Figure size 432x288 with 1 Axes>"
            ]
          },
          "metadata": {
            "needs_background": "light"
          }
        }
      ]
    },
    {
      "cell_type": "markdown",
      "metadata": {
        "id": "sjzd0-TyxwDM"
      },
      "source": [
        "###  **모델 생성**"
      ]
    },
    {
      "cell_type": "markdown",
      "metadata": {
        "id": "w341U_IMr_Ay"
      },
      "source": [
        "* 케라스를 이용한 모델 구현"
      ]
    },
    {
      "cell_type": "code",
      "metadata": {
        "id": "_U2vEe_sN-Hd",
        "colab": {
          "base_uri": "https://localhost:8080/"
        },
        "outputId": "63844035-caf7-41cd-9e02-2450016eba24"
      },
      "source": [
        "model = Sequential()\n",
        "model.add(Dense(3, input_dim=4, activation='softmax'))\n",
        "model.summary()"
      ],
      "execution_count": null,
      "outputs": [
        {
          "output_type": "stream",
          "name": "stdout",
          "text": [
            "Model: \"sequential_6\"\n",
            "_________________________________________________________________\n",
            "Layer (type)                 Output Shape              Param #   \n",
            "=================================================================\n",
            "dense_6 (Dense)              (None, 3)                 15        \n",
            "=================================================================\n",
            "Total params: 15\n",
            "Trainable params: 15\n",
            "Non-trainable params: 0\n",
            "_________________________________________________________________\n"
          ]
        }
      ]
    },
    {
      "cell_type": "markdown",
      "metadata": {
        "id": "OBKpPVHFyTsb"
      },
      "source": [
        "* 학습 파라미터 확인"
      ]
    },
    {
      "cell_type": "code",
      "metadata": {
        "id": "9hHOMXhkyPXa",
        "colab": {
          "base_uri": "https://localhost:8080/"
        },
        "outputId": "76444f6a-e59f-4639-a0cf-a970128bcdf9"
      },
      "source": [
        "W = model.get_weights()[0]\n",
        "b = model.get_weights()[1]\n",
        "print('W',W)\n",
        "print('b',b)"
      ],
      "execution_count": null,
      "outputs": [
        {
          "output_type": "stream",
          "name": "stdout",
          "text": [
            "W [[ 0.7414683   0.5367805   0.7802541 ]\n",
            " [ 0.22797012  0.5987828  -0.47069487]\n",
            " [ 0.5876609  -0.5473412   0.7392727 ]\n",
            " [-0.7855767  -0.72648126  0.23607278]]\n",
            "b [0. 0. 0.]\n"
          ]
        }
      ]
    },
    {
      "cell_type": "markdown",
      "metadata": {
        "id": "wfC7jd1tsKgr"
      },
      "source": [
        "* 시각화"
      ]
    },
    {
      "cell_type": "code",
      "metadata": {
        "id": "vKTNcPF3zaPk",
        "colab": {
          "base_uri": "https://localhost:8080/",
          "height": 283
        },
        "outputId": "8525a371-b9d1-4db9-c81f-f8982a3ff980"
      },
      "source": [
        "Y_pred_onehot = model.predict(X)\n",
        "Y_pred = [ np.argmax(y_pred_onehot) for y_pred_onehot in Y_pred_onehot ]\n",
        "print(Y_pred)\n",
        "\n",
        "plt.plot(Y, marker='o', linestyle='')\n",
        "plt.plot(Y_pred, marker='o', linestyle='--')\n",
        "plt.show()"
      ],
      "execution_count": null,
      "outputs": [
        {
          "output_type": "stream",
          "name": "stdout",
          "text": [
            "[2, 2, 2, 2, 2, 2, 2, 2, 2, 2]\n"
          ]
        },
        {
          "output_type": "display_data",
          "data": {
            "image/png": "[encoded data removed]",
            "text/plain": [
              "<Figure size 432x288 with 1 Axes>"
            ]
          },
          "metadata": {
            "needs_background": "light"
          }
        }
      ]
    },
    {
      "cell_type": "markdown",
      "metadata": {
        "id": "GpvKk6lsymbd"
      },
      "source": [
        "### **모델 학습**"
      ]
    },
    {
      "cell_type": "markdown",
      "metadata": {
        "id": "VaLNy_3atLZ8"
      },
      "source": [
        "* 모델 컴파일"
      ]
    },
    {
      "cell_type": "code",
      "metadata": {
        "id": "j6zS1DtnyTOT"
      },
      "source": [
        "model.compile(loss = 'categorical_crossentropy',\n",
        "              optimizer = optimizers.SGD(learning_rate=0.01),\n",
        "              metrics=[ 'acc' ])"
      ],
      "execution_count": null,
      "outputs": []
    },
    {
      "cell_type": "markdown",
      "metadata": {
        "id": "ZxywaIertNp0"
      },
      "source": [
        "* 학습 진행"
      ]
    },
    {
      "cell_type": "code",
      "metadata": {
        "id": "JSW0c3Lzypip",
        "colab": {
          "base_uri": "https://localhost:8080/"
        },
        "outputId": "15ae9476-9b52-4193-83d5-c2703b3221d3"
      },
      "source": [
        "model.fit(X, Y_onehot, epochs=300)"
      ],
      "execution_count": null,
      "outputs": [
        {
          "output_type": "stream",
          "name": "stdout",
          "text": [
            "Epoch 1/300\n",
            "1/1 [==============================] - 0s 401ms/step - loss: 4.7008 - acc: 0.3000\n",
            "Epoch 2/300\n",
            "1/1 [==============================] - 0s 6ms/step - loss: 4.1415 - acc: 0.3000\n",
            "Epoch 3/300\n",
            "1/1 [==============================] - 0s 5ms/step - loss: 3.6628 - acc: 0.4000\n",
            "Epoch 4/300\n",
            "1/1 [==============================] - 0s 5ms/step - loss: 3.2618 - acc: 0.4000\n",
            "Epoch 5/300\n",
            "1/1 [==============================] - 0s 5ms/step - loss: 2.9178 - acc: 0.5000\n",
            "Epoch 6/300\n",
            "1/1 [==============================] - 0s 5ms/step - loss: 2.6070 - acc: 0.6000\n",
            "Epoch 7/300\n",
            "1/1 [==============================] - 0s 4ms/step - loss: 2.3143 - acc: 0.6000\n",
            "Epoch 8/300\n",
            "1/1 [==============================] - 0s 7ms/step - loss: 2.0355 - acc: 0.6000\n",
            "Epoch 9/300\n",
            "1/1 [==============================] - 0s 6ms/step - loss: 1.7760 - acc: 0.6000\n",
            "Epoch 10/300\n",
            "1/1 [==============================] - 0s 5ms/step - loss: 1.5493 - acc: 0.6000\n",
            "Epoch 11/300\n",
            "1/1 [==============================] - 0s 5ms/step - loss: 1.3717 - acc: 0.6000\n",
            "Epoch 12/300\n",
            "1/1 [==============================] - 0s 7ms/step - loss: 1.2483 - acc: 0.6000\n",
            "Epoch 13/300\n",
            "1/1 [==============================] - 0s 5ms/step - loss: 1.1676 - acc: 0.5000\n",
            "Epoch 14/300\n",
            "1/1 [==============================] - 0s 4ms/step - loss: 1.1126 - acc: 0.5000\n",
            "Epoch 15/300\n",
            "1/1 [==============================] - 0s 7ms/step - loss: 1.0714 - acc: 0.5000\n",
            "Epoch 16/300\n",
            "1/1 [==============================] - 0s 14ms/step - loss: 1.0376 - acc: 0.5000\n",
            "Epoch 17/300\n",
            "1/1 [==============================] - 0s 10ms/step - loss: 1.0082 - acc: 0.5000\n",
            "Epoch 18/300\n",
            "1/1 [==============================] - 0s 7ms/step - loss: 0.9816 - acc: 0.5000\n",
            "Epoch 19/300\n",
            "1/1 [==============================] - 0s 6ms/step - loss: 0.9569 - acc: 0.5000\n",
            "Epoch 20/300\n",
            "1/1 [==============================] - 0s 13ms/step - loss: 0.9338 - acc: 0.5000\n",
            "Epoch 21/300\n",
            "1/1 [==============================] - 0s 9ms/step - loss: 0.9118 - acc: 0.5000\n",
            "Epoch 22/300\n",
            "1/1 [==============================] - 0s 2ms/step - loss: 0.8910 - acc: 0.5000\n",
            "Epoch 23/300\n",
            "1/1 [==============================] - 0s 2ms/step - loss: 0.8710 - acc: 0.5000\n",
            "Epoch 24/300\n",
            "1/1 [==============================] - 0s 4ms/step - loss: 0.8519 - acc: 0.5000\n",
            "Epoch 25/300\n",
            "1/1 [==============================] - 0s 4ms/step - loss: 0.8336 - acc: 0.5000\n",
            "Epoch 26/300\n",
            "1/1 [==============================] - 0s 6ms/step - loss: 0.8161 - acc: 0.5000\n",
            "Epoch 27/300\n",
            "1/1 [==============================] - 0s 4ms/step - loss: 0.7992 - acc: 0.6000\n",
            "Epoch 28/300\n",
            "1/1 [==============================] - 0s 3ms/step - loss: 0.7830 - acc: 0.6000\n",
            "Epoch 29/300\n",
            "1/1 [==============================] - 0s 3ms/step - loss: 0.7674 - acc: 0.6000\n",
            "Epoch 30/300\n",
            "1/1 [==============================] - 0s 3ms/step - loss: 0.7524 - acc: 0.6000\n",
            "Epoch 31/300\n",
            "1/1 [==============================] - 0s 3ms/step - loss: 0.7379 - acc: 0.6000\n",
            "Epoch 32/300\n",
            "1/1 [==============================] - 0s 4ms/step - loss: 0.7241 - acc: 0.6000\n",
            "Epoch 33/300\n",
            "1/1 [==============================] - 0s 4ms/step - loss: 0.7107 - acc: 0.6000\n",
            "Epoch 34/300\n",
            "1/1 [==============================] - 0s 6ms/step - loss: 0.6978 - acc: 0.6000\n",
            "Epoch 35/300\n",
            "1/1 [==============================] - 0s 3ms/step - loss: 0.6855 - acc: 0.6000\n",
            "Epoch 36/300\n",
            "1/1 [==============================] - 0s 4ms/step - loss: 0.6735 - acc: 0.6000\n",
            "Epoch 37/300\n",
            "1/1 [==============================] - 0s 11ms/step - loss: 0.6621 - acc: 0.6000\n",
            "Epoch 38/300\n",
            "1/1 [==============================] - 0s 6ms/step - loss: 0.6510 - acc: 0.6000\n",
            "Epoch 39/300\n",
            "1/1 [==============================] - 0s 5ms/step - loss: 0.6404 - acc: 0.6000\n",
            "Epoch 40/300\n",
            "1/1 [==============================] - 0s 4ms/step - loss: 0.6301 - acc: 0.7000\n",
            "Epoch 41/300\n",
            "1/1 [==============================] - 0s 5ms/step - loss: 0.6203 - acc: 0.7000\n",
            "Epoch 42/300\n",
            "1/1 [==============================] - 0s 6ms/step - loss: 0.6108 - acc: 0.7000\n",
            "Epoch 43/300\n",
            "1/1 [==============================] - 0s 5ms/step - loss: 0.6016 - acc: 0.7000\n",
            "Epoch 44/300\n",
            "1/1 [==============================] - 0s 6ms/step - loss: 0.5928 - acc: 0.7000\n",
            "Epoch 45/300\n",
            "1/1 [==============================] - 0s 5ms/step - loss: 0.5843 - acc: 0.7000\n",
            "Epoch 46/300\n",
            "1/1 [==============================] - 0s 4ms/step - loss: 0.5761 - acc: 0.7000\n",
            "Epoch 47/300\n",
            "1/1 [==============================] - 0s 5ms/step - loss: 0.5682 - acc: 0.7000\n",
            "Epoch 48/300\n",
            "1/1 [==============================] - 0s 4ms/step - loss: 0.5606 - acc: 0.7000\n",
            "Epoch 49/300\n",
            "1/1 [==============================] - 0s 5ms/step - loss: 0.5532 - acc: 0.7000\n",
            "Epoch 50/300\n",
            "1/1 [==============================] - 0s 4ms/step - loss: 0.5461 - acc: 0.7000\n",
            "Epoch 51/300\n",
            "1/1 [==============================] - 0s 5ms/step - loss: 0.5393 - acc: 0.7000\n",
            "Epoch 52/300\n",
            "1/1 [==============================] - 0s 3ms/step - loss: 0.5327 - acc: 0.7000\n",
            "Epoch 53/300\n",
            "1/1 [==============================] - 0s 4ms/step - loss: 0.5263 - acc: 0.7000\n",
            "Epoch 54/300\n",
            "1/1 [==============================] - 0s 4ms/step - loss: 0.5201 - acc: 0.7000\n",
            "Epoch 55/300\n",
            "1/1 [==============================] - 0s 4ms/step - loss: 0.5142 - acc: 0.7000\n",
            "Epoch 56/300\n",
            "1/1 [==============================] - 0s 5ms/step - loss: 0.5084 - acc: 0.7000\n",
            "Epoch 57/300\n",
            "1/1 [==============================] - 0s 4ms/step - loss: 0.5028 - acc: 0.7000\n",
            "Epoch 58/300\n",
            "1/1 [==============================] - 0s 5ms/step - loss: 0.4974 - acc: 0.7000\n",
            "Epoch 59/300\n",
            "1/1 [==============================] - 0s 6ms/step - loss: 0.4922 - acc: 0.7000\n",
            "Epoch 60/300\n",
            "1/1 [==============================] - 0s 4ms/step - loss: 0.4872 - acc: 0.7000\n",
            "Epoch 61/300\n",
            "1/1 [==============================] - 0s 7ms/step - loss: 0.4823 - acc: 0.7000\n",
            "Epoch 62/300\n",
            "1/1 [==============================] - 0s 3ms/step - loss: 0.4775 - acc: 0.7000\n",
            "Epoch 63/300\n",
            "1/1 [==============================] - 0s 3ms/step - loss: 0.4729 - acc: 0.8000\n",
            "Epoch 64/300\n",
            "1/1 [==============================] - 0s 3ms/step - loss: 0.4685 - acc: 0.8000\n",
            "Epoch 65/300\n",
            "1/1 [==============================] - 0s 4ms/step - loss: 0.4642 - acc: 0.8000\n",
            "Epoch 66/300\n",
            "1/1 [==============================] - 0s 3ms/step - loss: 0.4600 - acc: 0.8000\n",
            "Epoch 67/300\n",
            "1/1 [==============================] - 0s 4ms/step - loss: 0.4559 - acc: 0.8000\n",
            "Epoch 68/300\n",
            "1/1 [==============================] - 0s 4ms/step - loss: 0.4520 - acc: 0.8000\n",
            "Epoch 69/300\n",
            "1/1 [==============================] - 0s 5ms/step - loss: 0.4481 - acc: 0.8000\n",
            "Epoch 70/300\n",
            "1/1 [==============================] - 0s 5ms/step - loss: 0.4444 - acc: 0.9000\n",
            "Epoch 71/300\n",
            "1/1 [==============================] - 0s 3ms/step - loss: 0.4408 - acc: 0.9000\n",
            "Epoch 72/300\n",
            "1/1 [==============================] - 0s 5ms/step - loss: 0.4372 - acc: 0.9000\n",
            "Epoch 73/300\n",
            "1/1 [==============================] - 0s 4ms/step - loss: 0.4338 - acc: 0.9000\n",
            "Epoch 74/300\n",
            "1/1 [==============================] - 0s 3ms/step - loss: 0.4305 - acc: 0.9000\n",
            "Epoch 75/300\n",
            "1/1 [==============================] - 0s 4ms/step - loss: 0.4272 - acc: 0.9000\n",
            "Epoch 76/300\n",
            "1/1 [==============================] - 0s 4ms/step - loss: 0.4240 - acc: 0.9000\n",
            "Epoch 77/300\n",
            "1/1 [==============================] - 0s 7ms/step - loss: 0.4209 - acc: 0.9000\n",
            "Epoch 78/300\n",
            "1/1 [==============================] - 0s 3ms/step - loss: 0.4179 - acc: 0.9000\n",
            "Epoch 79/300\n",
            "1/1 [==============================] - 0s 4ms/step - loss: 0.4150 - acc: 0.9000\n",
            "Epoch 80/300\n",
            "1/1 [==============================] - 0s 3ms/step - loss: 0.4121 - acc: 0.9000\n",
            "Epoch 81/300\n",
            "1/1 [==============================] - 0s 3ms/step - loss: 0.4093 - acc: 0.9000\n",
            "Epoch 82/300\n",
            "1/1 [==============================] - 0s 5ms/step - loss: 0.4066 - acc: 0.9000\n",
            "Epoch 83/300\n",
            "1/1 [==============================] - 0s 2ms/step - loss: 0.4039 - acc: 0.9000\n",
            "Epoch 84/300\n",
            "1/1 [==============================] - 0s 3ms/step - loss: 0.4013 - acc: 0.9000\n",
            "Epoch 85/300\n",
            "1/1 [==============================] - 0s 5ms/step - loss: 0.3987 - acc: 0.9000\n",
            "Epoch 86/300\n",
            "1/1 [==============================] - 0s 3ms/step - loss: 0.3962 - acc: 0.9000\n",
            "Epoch 87/300\n",
            "1/1 [==============================] - 0s 3ms/step - loss: 0.3938 - acc: 0.9000\n",
            "Epoch 88/300\n",
            "1/1 [==============================] - 0s 4ms/step - loss: 0.3914 - acc: 0.9000\n",
            "Epoch 89/300\n",
            "1/1 [==============================] - 0s 3ms/step - loss: 0.3890 - acc: 0.9000\n",
            "Epoch 90/300\n",
            "1/1 [==============================] - 0s 3ms/step - loss: 0.3867 - acc: 0.9000\n",
            "Epoch 91/300\n",
            "1/1 [==============================] - 0s 5ms/step - loss: 0.3845 - acc: 0.9000\n",
            "Epoch 92/300\n",
            "1/1 [==============================] - 0s 3ms/step - loss: 0.3823 - acc: 0.9000\n",
            "Epoch 93/300\n",
            "1/1 [==============================] - 0s 3ms/step - loss: 0.3801 - acc: 0.9000\n",
            "Epoch 94/300\n",
            "1/1 [==============================] - 0s 3ms/step - loss: 0.3780 - acc: 0.9000\n",
            "Epoch 95/300\n",
            "1/1 [==============================] - 0s 4ms/step - loss: 0.3759 - acc: 0.9000\n",
            "Epoch 96/300\n",
            "1/1 [==============================] - 0s 3ms/step - loss: 0.3739 - acc: 0.9000\n",
            "Epoch 97/300\n",
            "1/1 [==============================] - 0s 3ms/step - loss: 0.3719 - acc: 0.9000\n",
            "Epoch 98/300\n",
            "1/1 [==============================] - 0s 3ms/step - loss: 0.3699 - acc: 0.9000\n",
            "Epoch 99/300\n",
            "1/1 [==============================] - 0s 4ms/step - loss: 0.3680 - acc: 0.9000\n",
            "Epoch 100/300\n",
            "1/1 [==============================] - 0s 3ms/step - loss: 0.3661 - acc: 0.9000\n",
            "Epoch 101/300\n",
            "1/1 [==============================] - 0s 4ms/step - loss: 0.3642 - acc: 0.9000\n",
            "Epoch 102/300\n",
            "1/1 [==============================] - 0s 3ms/step - loss: 0.3624 - acc: 0.9000\n",
            "Epoch 103/300\n",
            "1/1 [==============================] - 0s 3ms/step - loss: 0.3606 - acc: 0.9000\n",
            "Epoch 104/300\n",
            "1/1 [==============================] - 0s 3ms/step - loss: 0.3588 - acc: 0.9000\n",
            "Epoch 105/300\n",
            "1/1 [==============================] - 0s 5ms/step - loss: 0.3571 - acc: 0.9000\n",
            "Epoch 106/300\n",
            "1/1 [==============================] - 0s 3ms/step - loss: 0.3554 - acc: 0.9000\n",
            "Epoch 107/300\n",
            "1/1 [==============================] - 0s 3ms/step - loss: 0.3537 - acc: 0.9000\n",
            "Epoch 108/300\n",
            "1/1 [==============================] - 0s 5ms/step - loss: 0.3520 - acc: 0.9000\n",
            "Epoch 109/300\n",
            "1/1 [==============================] - 0s 3ms/step - loss: 0.3504 - acc: 0.9000\n",
            "Epoch 110/300\n",
            "1/1 [==============================] - 0s 3ms/step - loss: 0.3488 - acc: 0.9000\n",
            "Epoch 111/300\n",
            "1/1 [==============================] - 0s 5ms/step - loss: 0.3472 - acc: 0.9000\n",
            "Epoch 112/300\n",
            "1/1 [==============================] - 0s 3ms/step - loss: 0.3457 - acc: 0.9000\n",
            "Epoch 113/300\n",
            "1/1 [==============================] - 0s 5ms/step - loss: 0.3441 - acc: 0.9000\n",
            "Epoch 114/300\n",
            "1/1 [==============================] - 0s 3ms/step - loss: 0.3426 - acc: 0.9000\n",
            "Epoch 115/300\n",
            "1/1 [==============================] - 0s 5ms/step - loss: 0.3411 - acc: 0.9000\n",
            "Epoch 116/300\n",
            "1/1 [==============================] - 0s 4ms/step - loss: 0.3396 - acc: 0.9000\n",
            "Epoch 117/300\n",
            "1/1 [==============================] - 0s 3ms/step - loss: 0.3382 - acc: 0.9000\n",
            "Epoch 118/300\n",
            "1/1 [==============================] - 0s 5ms/step - loss: 0.3368 - acc: 0.9000\n",
            "Epoch 119/300\n",
            "1/1 [==============================] - 0s 3ms/step - loss: 0.3353 - acc: 0.9000\n",
            "Epoch 120/300\n",
            "1/1 [==============================] - 0s 5ms/step - loss: 0.3339 - acc: 0.9000\n",
            "Epoch 121/300\n",
            "1/1 [==============================] - 0s 3ms/step - loss: 0.3326 - acc: 0.9000\n",
            "Epoch 122/300\n",
            "1/1 [==============================] - 0s 5ms/step - loss: 0.3312 - acc: 0.9000\n",
            "Epoch 123/300\n",
            "1/1 [==============================] - 0s 3ms/step - loss: 0.3299 - acc: 0.9000\n",
            "Epoch 124/300\n",
            "1/1 [==============================] - 0s 3ms/step - loss: 0.3286 - acc: 0.9000\n",
            "Epoch 125/300\n",
            "1/1 [==============================] - 0s 3ms/step - loss: 0.3272 - acc: 0.9000\n",
            "Epoch 126/300\n",
            "1/1 [==============================] - 0s 3ms/step - loss: 0.3260 - acc: 0.9000\n",
            "Epoch 127/300\n",
            "1/1 [==============================] - 0s 5ms/step - loss: 0.3247 - acc: 1.0000\n",
            "Epoch 128/300\n",
            "1/1 [==============================] - 0s 3ms/step - loss: 0.3234 - acc: 1.0000\n",
            "Epoch 129/300\n",
            "1/1 [==============================] - 0s 3ms/step - loss: 0.3222 - acc: 1.0000\n",
            "Epoch 130/300\n",
            "1/1 [==============================] - 0s 5ms/step - loss: 0.3209 - acc: 1.0000\n",
            "Epoch 131/300\n",
            "1/1 [==============================] - 0s 3ms/step - loss: 0.3197 - acc: 1.0000\n",
            "Epoch 132/300\n",
            "1/1 [==============================] - 0s 3ms/step - loss: 0.3185 - acc: 1.0000\n",
            "Epoch 133/300\n",
            "1/1 [==============================] - 0s 10ms/step - loss: 0.3173 - acc: 1.0000\n",
            "Epoch 134/300\n",
            "1/1 [==============================] - 0s 3ms/step - loss: 0.3162 - acc: 1.0000\n",
            "Epoch 135/300\n",
            "1/1 [==============================] - 0s 3ms/step - loss: 0.3150 - acc: 1.0000\n",
            "Epoch 136/300\n",
            "1/1 [==============================] - 0s 3ms/step - loss: 0.3139 - acc: 1.0000\n",
            "Epoch 137/300\n",
            "1/1 [==============================] - 0s 5ms/step - loss: 0.3127 - acc: 1.0000\n",
            "Epoch 138/300\n",
            "1/1 [==============================] - 0s 3ms/step - loss: 0.3116 - acc: 1.0000\n",
            "Epoch 139/300\n",
            "1/1 [==============================] - 0s 3ms/step - loss: 0.3105 - acc: 1.0000\n",
            "Epoch 140/300\n",
            "1/1 [==============================] - 0s 3ms/step - loss: 0.3094 - acc: 1.0000\n",
            "Epoch 141/300\n",
            "1/1 [==============================] - 0s 5ms/step - loss: 0.3083 - acc: 1.0000\n",
            "Epoch 142/300\n",
            "1/1 [==============================] - 0s 5ms/step - loss: 0.3072 - acc: 1.0000\n",
            "Epoch 143/300\n",
            "1/1 [==============================] - 0s 4ms/step - loss: 0.3062 - acc: 1.0000\n",
            "Epoch 144/300\n",
            "1/1 [==============================] - 0s 5ms/step - loss: 0.3051 - acc: 1.0000\n",
            "Epoch 145/300\n",
            "1/1 [==============================] - 0s 9ms/step - loss: 0.3041 - acc: 1.0000\n",
            "Epoch 146/300\n",
            "1/1 [==============================] - 0s 11ms/step - loss: 0.3030 - acc: 1.0000\n",
            "Epoch 147/300\n",
            "1/1 [==============================] - 0s 10ms/step - loss: 0.3020 - acc: 1.0000\n",
            "Epoch 148/300\n",
            "1/1 [==============================] - 0s 19ms/step - loss: 0.3010 - acc: 1.0000\n",
            "Epoch 149/300\n",
            "1/1 [==============================] - 0s 4ms/step - loss: 0.3000 - acc: 1.0000\n",
            "Epoch 150/300\n",
            "1/1 [==============================] - 0s 5ms/step - loss: 0.2990 - acc: 1.0000\n",
            "Epoch 151/300\n",
            "1/1 [==============================] - 0s 4ms/step - loss: 0.2980 - acc: 1.0000\n",
            "Epoch 152/300\n",
            "1/1 [==============================] - 0s 4ms/step - loss: 0.2970 - acc: 1.0000\n",
            "Epoch 153/300\n",
            "1/1 [==============================] - 0s 3ms/step - loss: 0.2961 - acc: 1.0000\n",
            "Epoch 154/300\n",
            "1/1 [==============================] - 0s 4ms/step - loss: 0.2951 - acc: 1.0000\n",
            "Epoch 155/300\n",
            "1/1 [==============================] - 0s 7ms/step - loss: 0.2942 - acc: 1.0000\n",
            "Epoch 156/300\n",
            "1/1 [==============================] - 0s 3ms/step - loss: 0.2932 - acc: 1.0000\n",
            "Epoch 157/300\n",
            "1/1 [==============================] - 0s 3ms/step - loss: 0.2923 - acc: 1.0000\n",
            "Epoch 158/300\n",
            "1/1 [==============================] - 0s 4ms/step - loss: 0.2914 - acc: 1.0000\n",
            "Epoch 159/300\n",
            "1/1 [==============================] - 0s 5ms/step - loss: 0.2905 - acc: 1.0000\n",
            "Epoch 160/300\n",
            "1/1 [==============================] - 0s 3ms/step - loss: 0.2895 - acc: 1.0000\n",
            "Epoch 161/300\n",
            "1/1 [==============================] - 0s 6ms/step - loss: 0.2886 - acc: 1.0000\n",
            "Epoch 162/300\n",
            "1/1 [==============================] - 0s 3ms/step - loss: 0.2878 - acc: 1.0000\n",
            "Epoch 163/300\n",
            "1/1 [==============================] - 0s 4ms/step - loss: 0.2869 - acc: 1.0000\n",
            "Epoch 164/300\n",
            "1/1 [==============================] - 0s 4ms/step - loss: 0.2860 - acc: 1.0000\n",
            "Epoch 165/300\n",
            "1/1 [==============================] - 0s 3ms/step - loss: 0.2851 - acc: 1.0000\n",
            "Epoch 166/300\n",
            "1/1 [==============================] - 0s 5ms/step - loss: 0.2843 - acc: 1.0000\n",
            "Epoch 167/300\n",
            "1/1 [==============================] - 0s 4ms/step - loss: 0.2834 - acc: 1.0000\n",
            "Epoch 168/300\n",
            "1/1 [==============================] - 0s 3ms/step - loss: 0.2826 - acc: 1.0000\n",
            "Epoch 169/300\n",
            "1/1 [==============================] - 0s 3ms/step - loss: 0.2817 - acc: 1.0000\n",
            "Epoch 170/300\n",
            "1/1 [==============================] - 0s 4ms/step - loss: 0.2809 - acc: 1.0000\n",
            "Epoch 171/300\n",
            "1/1 [==============================] - 0s 3ms/step - loss: 0.2801 - acc: 1.0000\n",
            "Epoch 172/300\n",
            "1/1 [==============================] - 0s 11ms/step - loss: 0.2792 - acc: 1.0000\n",
            "Epoch 173/300\n",
            "1/1 [==============================] - 0s 9ms/step - loss: 0.2784 - acc: 1.0000\n",
            "Epoch 174/300\n",
            "1/1 [==============================] - 0s 5ms/step - loss: 0.2776 - acc: 1.0000\n",
            "Epoch 175/300\n",
            "1/1 [==============================] - 0s 3ms/step - loss: 0.2768 - acc: 1.0000\n",
            "Epoch 176/300\n",
            "1/1 [==============================] - 0s 10ms/step - loss: 0.2760 - acc: 1.0000\n",
            "Epoch 177/300\n",
            "1/1 [==============================] - 0s 15ms/step - loss: 0.2752 - acc: 1.0000\n",
            "Epoch 178/300\n",
            "1/1 [==============================] - 0s 6ms/step - loss: 0.2745 - acc: 1.0000\n",
            "Epoch 179/300\n",
            "1/1 [==============================] - 0s 9ms/step - loss: 0.2737 - acc: 1.0000\n",
            "Epoch 180/300\n",
            "1/1 [==============================] - 0s 5ms/step - loss: 0.2729 - acc: 1.0000\n",
            "Epoch 181/300\n",
            "1/1 [==============================] - 0s 8ms/step - loss: 0.2721 - acc: 1.0000\n",
            "Epoch 182/300\n",
            "1/1 [==============================] - 0s 7ms/step - loss: 0.2714 - acc: 1.0000\n",
            "Epoch 183/300\n",
            "1/1 [==============================] - 0s 5ms/step - loss: 0.2706 - acc: 1.0000\n",
            "Epoch 184/300\n",
            "1/1 [==============================] - 0s 4ms/step - loss: 0.2699 - acc: 1.0000\n",
            "Epoch 185/300\n",
            "1/1 [==============================] - 0s 3ms/step - loss: 0.2691 - acc: 1.0000\n",
            "Epoch 186/300\n",
            "1/1 [==============================] - 0s 3ms/step - loss: 0.2684 - acc: 1.0000\n",
            "Epoch 187/300\n",
            "1/1 [==============================] - 0s 4ms/step - loss: 0.2677 - acc: 1.0000\n",
            "Epoch 188/300\n",
            "1/1 [==============================] - 0s 3ms/step - loss: 0.2669 - acc: 1.0000\n",
            "Epoch 189/300\n",
            "1/1 [==============================] - 0s 4ms/step - loss: 0.2662 - acc: 1.0000\n",
            "Epoch 190/300\n",
            "1/1 [==============================] - 0s 5ms/step - loss: 0.2655 - acc: 1.0000\n",
            "Epoch 191/300\n",
            "1/1 [==============================] - 0s 6ms/step - loss: 0.2648 - acc: 1.0000\n",
            "Epoch 192/300\n",
            "1/1 [==============================] - 0s 5ms/step - loss: 0.2641 - acc: 1.0000\n",
            "Epoch 193/300\n",
            "1/1 [==============================] - 0s 19ms/step - loss: 0.2634 - acc: 1.0000\n",
            "Epoch 194/300\n",
            "1/1 [==============================] - 0s 8ms/step - loss: 0.2627 - acc: 1.0000\n",
            "Epoch 195/300\n",
            "1/1 [==============================] - 0s 3ms/step - loss: 0.2620 - acc: 1.0000\n",
            "Epoch 196/300\n",
            "1/1 [==============================] - 0s 3ms/step - loss: 0.2613 - acc: 1.0000\n",
            "Epoch 197/300\n",
            "1/1 [==============================] - 0s 3ms/step - loss: 0.2606 - acc: 1.0000\n",
            "Epoch 198/300\n",
            "1/1 [==============================] - 0s 5ms/step - loss: 0.2599 - acc: 1.0000\n",
            "Epoch 199/300\n",
            "1/1 [==============================] - 0s 3ms/step - loss: 0.2593 - acc: 1.0000\n",
            "Epoch 200/300\n",
            "1/1 [==============================] - 0s 3ms/step - loss: 0.2586 - acc: 1.0000\n",
            "Epoch 201/300\n",
            "1/1 [==============================] - 0s 3ms/step - loss: 0.2579 - acc: 1.0000\n",
            "Epoch 202/300\n",
            "1/1 [==============================] - 0s 5ms/step - loss: 0.2573 - acc: 1.0000\n",
            "Epoch 203/300\n",
            "1/1 [==============================] - 0s 3ms/step - loss: 0.2566 - acc: 1.0000\n",
            "Epoch 204/300\n",
            "1/1 [==============================] - 0s 3ms/step - loss: 0.2560 - acc: 1.0000\n",
            "Epoch 205/300\n",
            "1/1 [==============================] - 0s 4ms/step - loss: 0.2553 - acc: 1.0000\n",
            "Epoch 206/300\n",
            "1/1 [==============================] - 0s 3ms/step - loss: 0.2547 - acc: 1.0000\n",
            "Epoch 207/300\n",
            "1/1 [==============================] - 0s 3ms/step - loss: 0.2540 - acc: 1.0000\n",
            "Epoch 208/300\n",
            "1/1 [==============================] - 0s 5ms/step - loss: 0.2534 - acc: 1.0000\n",
            "Epoch 209/300\n",
            "1/1 [==============================] - 0s 3ms/step - loss: 0.2528 - acc: 1.0000\n",
            "Epoch 210/300\n",
            "1/1 [==============================] - 0s 3ms/step - loss: 0.2521 - acc: 1.0000\n",
            "Epoch 211/300\n",
            "1/1 [==============================] - 0s 4ms/step - loss: 0.2515 - acc: 1.0000\n",
            "Epoch 212/300\n",
            "1/1 [==============================] - 0s 4ms/step - loss: 0.2509 - acc: 1.0000\n",
            "Epoch 213/300\n",
            "1/1 [==============================] - 0s 3ms/step - loss: 0.2503 - acc: 1.0000\n",
            "Epoch 214/300\n",
            "1/1 [==============================] - 0s 3ms/step - loss: 0.2497 - acc: 1.0000\n",
            "Epoch 215/300\n",
            "1/1 [==============================] - 0s 10ms/step - loss: 0.2491 - acc: 1.0000\n",
            "Epoch 216/300\n",
            "1/1 [==============================] - 0s 6ms/step - loss: 0.2485 - acc: 1.0000\n",
            "Epoch 217/300\n",
            "1/1 [==============================] - 0s 20ms/step - loss: 0.2479 - acc: 1.0000\n",
            "Epoch 218/300\n",
            "1/1 [==============================] - 0s 6ms/step - loss: 0.2473 - acc: 1.0000\n",
            "Epoch 219/300\n",
            "1/1 [==============================] - 0s 12ms/step - loss: 0.2467 - acc: 1.0000\n",
            "Epoch 220/300\n",
            "1/1 [==============================] - 0s 11ms/step - loss: 0.2461 - acc: 1.0000\n",
            "Epoch 221/300\n",
            "1/1 [==============================] - 0s 19ms/step - loss: 0.2455 - acc: 1.0000\n",
            "Epoch 222/300\n",
            "1/1 [==============================] - 0s 3ms/step - loss: 0.2449 - acc: 1.0000\n",
            "Epoch 223/300\n",
            "1/1 [==============================] - 0s 4ms/step - loss: 0.2443 - acc: 1.0000\n",
            "Epoch 224/300\n",
            "1/1 [==============================] - 0s 4ms/step - loss: 0.2438 - acc: 1.0000\n",
            "Epoch 225/300\n",
            "1/1 [==============================] - 0s 4ms/step - loss: 0.2432 - acc: 1.0000\n",
            "Epoch 226/300\n",
            "1/1 [==============================] - 0s 3ms/step - loss: 0.2426 - acc: 1.0000\n",
            "Epoch 227/300\n",
            "1/1 [==============================] - 0s 5ms/step - loss: 0.2420 - acc: 1.0000\n",
            "Epoch 228/300\n",
            "1/1 [==============================] - 0s 4ms/step - loss: 0.2415 - acc: 1.0000\n",
            "Epoch 229/300\n",
            "1/1 [==============================] - 0s 3ms/step - loss: 0.2409 - acc: 1.0000\n",
            "Epoch 230/300\n",
            "1/1 [==============================] - 0s 10ms/step - loss: 0.2404 - acc: 1.0000\n",
            "Epoch 231/300\n",
            "1/1 [==============================] - 0s 3ms/step - loss: 0.2398 - acc: 1.0000\n",
            "Epoch 232/300\n",
            "1/1 [==============================] - 0s 3ms/step - loss: 0.2393 - acc: 1.0000\n",
            "Epoch 233/300\n",
            "1/1 [==============================] - 0s 3ms/step - loss: 0.2387 - acc: 1.0000\n",
            "Epoch 234/300\n",
            "1/1 [==============================] - 0s 3ms/step - loss: 0.2382 - acc: 1.0000\n",
            "Epoch 235/300\n",
            "1/1 [==============================] - 0s 3ms/step - loss: 0.2376 - acc: 1.0000\n",
            "Epoch 236/300\n",
            "1/1 [==============================] - 0s 3ms/step - loss: 0.2371 - acc: 1.0000\n",
            "Epoch 237/300\n",
            "1/1 [==============================] - 0s 3ms/step - loss: 0.2366 - acc: 1.0000\n",
            "Epoch 238/300\n",
            "1/1 [==============================] - 0s 4ms/step - loss: 0.2360 - acc: 1.0000\n",
            "Epoch 239/300\n",
            "1/1 [==============================] - 0s 5ms/step - loss: 0.2355 - acc: 1.0000\n",
            "Epoch 240/300\n",
            "1/1 [==============================] - 0s 9ms/step - loss: 0.2350 - acc: 1.0000\n",
            "Epoch 241/300\n",
            "1/1 [==============================] - 0s 16ms/step - loss: 0.2345 - acc: 1.0000\n",
            "Epoch 242/300\n",
            "1/1 [==============================] - 0s 11ms/step - loss: 0.2339 - acc: 1.0000\n",
            "Epoch 243/300\n",
            "1/1 [==============================] - 0s 9ms/step - loss: 0.2334 - acc: 1.0000\n",
            "Epoch 244/300\n",
            "1/1 [==============================] - 0s 6ms/step - loss: 0.2329 - acc: 1.0000\n",
            "Epoch 245/300\n",
            "1/1 [==============================] - 0s 3ms/step - loss: 0.2324 - acc: 1.0000\n",
            "Epoch 246/300\n",
            "1/1 [==============================] - 0s 4ms/step - loss: 0.2319 - acc: 1.0000\n",
            "Epoch 247/300\n",
            "1/1 [==============================] - 0s 4ms/step - loss: 0.2314 - acc: 1.0000\n",
            "Epoch 248/300\n",
            "1/1 [==============================] - 0s 5ms/step - loss: 0.2309 - acc: 1.0000\n",
            "Epoch 249/300\n",
            "1/1 [==============================] - 0s 4ms/step - loss: 0.2304 - acc: 1.0000\n",
            "Epoch 250/300\n",
            "1/1 [==============================] - 0s 4ms/step - loss: 0.2299 - acc: 1.0000\n",
            "Epoch 251/300\n",
            "1/1 [==============================] - 0s 5ms/step - loss: 0.2294 - acc: 1.0000\n",
            "Epoch 252/300\n",
            "1/1 [==============================] - 0s 3ms/step - loss: 0.2289 - acc: 1.0000\n",
            "Epoch 253/300\n",
            "1/1 [==============================] - 0s 5ms/step - loss: 0.2284 - acc: 1.0000\n",
            "Epoch 254/300\n",
            "1/1 [==============================] - 0s 8ms/step - loss: 0.2279 - acc: 1.0000\n",
            "Epoch 255/300\n",
            "1/1 [==============================] - 0s 4ms/step - loss: 0.2274 - acc: 1.0000\n",
            "Epoch 256/300\n",
            "1/1 [==============================] - 0s 5ms/step - loss: 0.2269 - acc: 1.0000\n",
            "Epoch 257/300\n",
            "1/1 [==============================] - 0s 19ms/step - loss: 0.2265 - acc: 1.0000\n",
            "Epoch 258/300\n",
            "1/1 [==============================] - 0s 21ms/step - loss: 0.2260 - acc: 1.0000\n",
            "Epoch 259/300\n",
            "1/1 [==============================] - 0s 11ms/step - loss: 0.2255 - acc: 1.0000\n",
            "Epoch 260/300\n",
            "1/1 [==============================] - 0s 6ms/step - loss: 0.2250 - acc: 1.0000\n",
            "Epoch 261/300\n",
            "1/1 [==============================] - 0s 4ms/step - loss: 0.2246 - acc: 1.0000\n",
            "Epoch 262/300\n",
            "1/1 [==============================] - 0s 7ms/step - loss: 0.2241 - acc: 1.0000\n",
            "Epoch 263/300\n",
            "1/1 [==============================] - 0s 3ms/step - loss: 0.2236 - acc: 1.0000\n",
            "Epoch 264/300\n",
            "1/1 [==============================] - 0s 4ms/step - loss: 0.2232 - acc: 1.0000\n",
            "Epoch 265/300\n",
            "1/1 [==============================] - 0s 5ms/step - loss: 0.2227 - acc: 1.0000\n",
            "Epoch 266/300\n",
            "1/1 [==============================] - 0s 7ms/step - loss: 0.2222 - acc: 1.0000\n",
            "Epoch 267/300\n",
            "1/1 [==============================] - 0s 11ms/step - loss: 0.2218 - acc: 1.0000\n",
            "Epoch 268/300\n",
            "1/1 [==============================] - 0s 19ms/step - loss: 0.2213 - acc: 1.0000\n",
            "Epoch 269/300\n",
            "1/1 [==============================] - 0s 15ms/step - loss: 0.2209 - acc: 1.0000\n",
            "Epoch 270/300\n",
            "1/1 [==============================] - 0s 21ms/step - loss: 0.2204 - acc: 1.0000\n",
            "Epoch 271/300\n",
            "1/1 [==============================] - 0s 3ms/step - loss: 0.2200 - acc: 1.0000\n",
            "Epoch 272/300\n",
            "1/1 [==============================] - 0s 8ms/step - loss: 0.2195 - acc: 1.0000\n",
            "Epoch 273/300\n",
            "1/1 [==============================] - 0s 10ms/step - loss: 0.2191 - acc: 1.0000\n",
            "Epoch 274/300\n",
            "1/1 [==============================] - 0s 3ms/step - loss: 0.2187 - acc: 1.0000\n",
            "Epoch 275/300\n",
            "1/1 [==============================] - 0s 3ms/step - loss: 0.2182 - acc: 1.0000\n",
            "Epoch 276/300\n",
            "1/1 [==============================] - 0s 4ms/step - loss: 0.2178 - acc: 1.0000\n",
            "Epoch 277/300\n",
            "1/1 [==============================] - 0s 3ms/step - loss: 0.2173 - acc: 1.0000\n",
            "Epoch 278/300\n",
            "1/1 [==============================] - 0s 3ms/step - loss: 0.2169 - acc: 1.0000\n",
            "Epoch 279/300\n",
            "1/1 [==============================] - 0s 3ms/step - loss: 0.2165 - acc: 1.0000\n",
            "Epoch 280/300\n",
            "1/1 [==============================] - 0s 22ms/step - loss: 0.2161 - acc: 1.0000\n",
            "Epoch 281/300\n",
            "1/1 [==============================] - 0s 8ms/step - loss: 0.2156 - acc: 1.0000\n",
            "Epoch 282/300\n",
            "1/1 [==============================] - 0s 11ms/step - loss: 0.2152 - acc: 1.0000\n",
            "Epoch 283/300\n",
            "1/1 [==============================] - 0s 5ms/step - loss: 0.2148 - acc: 1.0000\n",
            "Epoch 284/300\n",
            "1/1 [==============================] - 0s 5ms/step - loss: 0.2144 - acc: 1.0000\n",
            "Epoch 285/300\n",
            "1/1 [==============================] - 0s 5ms/step - loss: 0.2139 - acc: 1.0000\n",
            "Epoch 286/300\n",
            "1/1 [==============================] - 0s 3ms/step - loss: 0.2135 - acc: 1.0000\n",
            "Epoch 287/300\n",
            "1/1 [==============================] - 0s 3ms/step - loss: 0.2131 - acc: 1.0000\n",
            "Epoch 288/300\n",
            "1/1 [==============================] - 0s 3ms/step - loss: 0.2127 - acc: 1.0000\n",
            "Epoch 289/300\n",
            "1/1 [==============================] - 0s 4ms/step - loss: 0.2123 - acc: 1.0000\n",
            "Epoch 290/300\n",
            "1/1 [==============================] - 0s 4ms/step - loss: 0.2119 - acc: 1.0000\n",
            "Epoch 291/300\n",
            "1/1 [==============================] - 0s 4ms/step - loss: 0.2115 - acc: 1.0000\n",
            "Epoch 292/300\n",
            "1/1 [==============================] - 0s 2ms/step - loss: 0.2111 - acc: 1.0000\n",
            "Epoch 293/300\n",
            "1/1 [==============================] - 0s 3ms/step - loss: 0.2107 - acc: 1.0000\n",
            "Epoch 294/300\n",
            "1/1 [==============================] - 0s 5ms/step - loss: 0.2103 - acc: 1.0000\n",
            "Epoch 295/300\n",
            "1/1 [==============================] - 0s 4ms/step - loss: 0.2099 - acc: 1.0000\n",
            "Epoch 296/300\n",
            "1/1 [==============================] - 0s 6ms/step - loss: 0.2095 - acc: 1.0000\n",
            "Epoch 297/300\n",
            "1/1 [==============================] - 0s 4ms/step - loss: 0.2091 - acc: 1.0000\n",
            "Epoch 298/300\n",
            "1/1 [==============================] - 0s 7ms/step - loss: 0.2087 - acc: 1.0000\n",
            "Epoch 299/300\n",
            "1/1 [==============================] - 0s 9ms/step - loss: 0.2083 - acc: 1.0000\n",
            "Epoch 300/300\n",
            "1/1 [==============================] - 0s 6ms/step - loss: 0.2079 - acc: 1.0000\n"
          ]
        },
        {
          "output_type": "execute_result",
          "data": {
            "text/plain": [
              "<keras.callbacks.History at 0x7f2912799510>"
            ]
          },
          "metadata": {},
          "execution_count": 84
        }
      ]
    },
    {
      "cell_type": "markdown",
      "metadata": {
        "id": "e0215hW8tTj0"
      },
      "source": [
        "### **결과**"
      ]
    },
    {
      "cell_type": "markdown",
      "metadata": {
        "id": "W168xYmMtVij"
      },
      "source": [
        "* 학습 파라미터 확인"
      ]
    },
    {
      "cell_type": "code",
      "metadata": {
        "id": "Aj42y5watYT7",
        "colab": {
          "base_uri": "https://localhost:8080/"
        },
        "outputId": "42578ae7-0434-4fd4-a03f-8bb5979e2a4c"
      },
      "source": [
        "W = model.get_weights()[0]\n",
        "b = model.get_weights()[1]\n",
        "print('W',W)\n",
        "print('b',b)"
      ],
      "execution_count": null,
      "outputs": [
        {
          "output_type": "stream",
          "name": "stdout",
          "text": [
            "W [[ 0.43298984  0.55960494  1.0659083 ]\n",
            " [-0.10368288  0.7965277  -0.33678672]\n",
            " [ 0.8023063   0.3214848  -0.3441994 ]\n",
            " [-1.0830497  -0.69208676  0.49915048]]\n",
            "b [ 0.01456095  0.10600065 -0.1205616 ]\n"
          ]
        }
      ]
    },
    {
      "cell_type": "markdown",
      "metadata": {
        "id": "Z8T5AAV2TolY"
      },
      "source": [
        "* 예측"
      ]
    },
    {
      "cell_type": "code",
      "metadata": {
        "id": "8wVuvg_5TqKR",
        "colab": {
          "base_uri": "https://localhost:8080/"
        },
        "outputId": "d1debd1d-86a4-4669-e432-0e5214cecefc"
      },
      "source": [
        "Y_pred_onehot = model.predict(X)\n",
        "Y_pred = [np.argmax(Y_pred_onehot) for Y_pred_onehot in Y_pred_onehot]\n",
        "print(Y_pred)"
      ],
      "execution_count": null,
      "outputs": [
        {
          "output_type": "stream",
          "name": "stdout",
          "text": [
            "[0, 0, 0, 1, 1, 1, 1, 2, 2, 2]\n"
          ]
        }
      ]
    },
    {
      "cell_type": "markdown",
      "metadata": {
        "id": "WZP0UAgGtbXD"
      },
      "source": [
        "* 시각화"
      ]
    },
    {
      "cell_type": "code",
      "metadata": {
        "id": "pXDWEWIDtbXD",
        "colab": {
          "base_uri": "https://localhost:8080/",
          "height": 283
        },
        "outputId": "00c56a9a-3f69-46da-a180-9f703bf5ca8f"
      },
      "source": [
        "Y_pred_onehot = model.predict(X)\n",
        "Y_pred = [ np.argmax(y_pred_onehot) for y_pred_onehot in Y_pred_onehot ]\n",
        "print(Y_pred)\n",
        "\n",
        "plt.plot(Y, marker='o', linestyle='')\n",
        "plt.plot(Y_pred, marker='.', linestyle='--')\n",
        "plt.show()"
      ],
      "execution_count": null,
      "outputs": [
        {
          "output_type": "stream",
          "name": "stdout",
          "text": [
            "[0, 0, 0, 1, 1, 1, 1, 2, 2, 2]\n"
          ]
        },
        {
          "output_type": "display_data",
          "data": {
            "image/png": "[encoded data removed]",
            "text/plain": [
              "<Figure size 432x288 with 1 Axes>"
            ]
          },
          "metadata": {
            "needs_background": "light"
          }
        }
      ]
    }
  ]
}